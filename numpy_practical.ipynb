{
 "cells": [
  {
   "cell_type": "code",
   "execution_count": 1,
   "id": "037d597d-985c-479f-bebd-5d6ef1431877",
   "metadata": {},
   "outputs": [],
   "source": [
    "import numpy as np"
   ]
  },
  {
   "cell_type": "code",
   "execution_count": 2,
   "id": "cc249446-9723-4572-9ae2-9e5f079e52a4",
   "metadata": {},
   "outputs": [],
   "source": [
    "# Qn1:. Create a 3x3 NumPy array with random integers between 1 and 100. Then, interchange its rows and columns.\n",
    "\n",
    "# code->\n",
    "arr = np.random.randint(1,100,(3,3))"
   ]
  },
  {
   "cell_type": "code",
   "execution_count": 3,
   "id": "d76f4076-98f4-46d7-88bf-93486f790030",
   "metadata": {},
   "outputs": [
    {
     "data": {
      "text/plain": [
       "array([[45, 76, 24],\n",
       "       [96, 17, 68],\n",
       "       [87,  4, 42]])"
      ]
     },
     "execution_count": 3,
     "metadata": {},
     "output_type": "execute_result"
    }
   ],
   "source": [
    "arr"
   ]
  },
  {
   "cell_type": "code",
   "execution_count": 4,
   "id": "9a07219f-e80d-4307-83f9-3c943f7b57fb",
   "metadata": {},
   "outputs": [
    {
     "data": {
      "text/plain": [
       "array([[45, 96, 87],\n",
       "       [76, 17,  4],\n",
       "       [24, 68, 42]])"
      ]
     },
     "execution_count": 4,
     "metadata": {},
     "output_type": "execute_result"
    }
   ],
   "source": [
    "arr.T"
   ]
  },
  {
   "cell_type": "code",
   "execution_count": 5,
   "id": "535c3e85-bfe2-4f89-aaa7-550ba37f0a76",
   "metadata": {},
   "outputs": [
    {
     "data": {
      "text/plain": [
       "array([ 1,  2,  3,  4,  5,  6,  7,  8,  9, 10])"
      ]
     },
     "execution_count": 5,
     "metadata": {},
     "output_type": "execute_result"
    }
   ],
   "source": [
    "# Qn2: Generate a 1D NumPy array with 10 elements. Reshape it into a 2x5 array, then into a 5x2 array\n",
    "\n",
    "# code->\n",
    "arr = np.array([1,2,3,4,5,6,7,8,9,10])\n",
    "arr"
   ]
  },
  {
   "cell_type": "code",
   "execution_count": 6,
   "id": "18b5bb26-4be9-4408-90c3-510f50ae1ea2",
   "metadata": {},
   "outputs": [
    {
     "data": {
      "text/plain": [
       "array([[ 1,  2,  3,  4,  5],\n",
       "       [ 6,  7,  8,  9, 10]])"
      ]
     },
     "execution_count": 6,
     "metadata": {},
     "output_type": "execute_result"
    }
   ],
   "source": [
    "arr.reshape(2,5)"
   ]
  },
  {
   "cell_type": "code",
   "execution_count": 7,
   "id": "afcc2377-893b-460a-8089-1363d55a283c",
   "metadata": {},
   "outputs": [
    {
     "data": {
      "text/plain": [
       "array([[ 1,  2],\n",
       "       [ 3,  4],\n",
       "       [ 5,  6],\n",
       "       [ 7,  8],\n",
       "       [ 9, 10]])"
      ]
     },
     "execution_count": 7,
     "metadata": {},
     "output_type": "execute_result"
    }
   ],
   "source": [
    "arr.reshape(5,2)"
   ]
  },
  {
   "cell_type": "code",
   "execution_count": 8,
   "id": "4730196f-0201-4170-979e-fe89b322ae86",
   "metadata": {},
   "outputs": [
    {
     "name": "stdout",
     "output_type": "stream",
     "text": [
      "Original 4x4 Array:\n",
      " [[0.43137811 0.71643378 0.44948862 0.89443169]\n",
      " [0.77216013 0.72452743 0.16553568 0.95476193]\n",
      " [0.68600633 0.14905595 0.94138629 0.60097784]\n",
      " [0.64063124 0.97396331 0.93891772 0.24079405]]\n",
      "6x6 Array with Border:\n",
      " [[0.         0.         0.         0.         0.         0.        ]\n",
      " [0.         0.43137811 0.71643378 0.44948862 0.89443169 0.        ]\n",
      " [0.         0.77216013 0.72452743 0.16553568 0.95476193 0.        ]\n",
      " [0.         0.68600633 0.14905595 0.94138629 0.60097784 0.        ]\n",
      " [0.         0.64063124 0.97396331 0.93891772 0.24079405 0.        ]\n",
      " [0.         0.         0.         0.         0.         0.        ]]\n"
     ]
    }
   ],
   "source": [
    "# Qn3: Create a 4x4 NumPy array with random float values. Add a border of zeros around it, resulting in a 6x6 array\n",
    "\n",
    "# code->\n",
    "arr = np.random.rand(4, 4)\n",
    "bordered_arr = np.pad(arr, pad_width=1, mode='constant', constant_values=0)\n",
    "print(\"Original 4x4 Array:\\n\", arr)\n",
    "print(\"6x6 Array with Border:\\n\", bordered_arr)"
   ]
  },
  {
   "cell_type": "code",
   "execution_count": 9,
   "id": "8478877d-615c-45e5-bb9e-94a9a879ce12",
   "metadata": {},
   "outputs": [
    {
     "data": {
      "text/plain": [
       "array([10, 15, 20, 25, 30, 35, 40, 45, 50, 55, 60])"
      ]
     },
     "execution_count": 9,
     "metadata": {},
     "output_type": "execute_result"
    }
   ],
   "source": [
    "# Qn4: Using NumPy, create an array of integers from 10 to 60 with a step of 5.\n",
    "\n",
    "# code->\n",
    "arr = np.arange(10, 61, 5)\n",
    "arr"
   ]
  },
  {
   "cell_type": "code",
   "execution_count": 10,
   "id": "dda948f2-8f57-4f56-85d5-f2fdd3ac963c",
   "metadata": {},
   "outputs": [
    {
     "data": {
      "text/plain": [
       "array(['python', 'numpy', 'pandas'], dtype='<U6')"
      ]
     },
     "execution_count": 10,
     "metadata": {},
     "output_type": "execute_result"
    }
   ],
   "source": [
    "# Qn5: Create a NumPy array of strings ['python', 'numpy', 'pandas']. Apply different case transformations (uppercase, lowercase, title case, etc.) to each element.\n",
    "\n",
    "# code->\n",
    "str = np.array(['python', 'numpy', 'pandas'])\n",
    "str"
   ]
  },
  {
   "cell_type": "code",
   "execution_count": 11,
   "id": "aff0b6b8-2be0-4d4c-b681-2eb8b494719e",
   "metadata": {},
   "outputs": [
    {
     "data": {
      "text/plain": [
       "dtype('<U6')"
      ]
     },
     "execution_count": 11,
     "metadata": {},
     "output_type": "execute_result"
    }
   ],
   "source": [
    "str.dtype\n"
   ]
  },
  {
   "cell_type": "code",
   "execution_count": 12,
   "id": "e38962dd-6f5e-49c1-9c7a-3de8e30e3d23",
   "metadata": {},
   "outputs": [
    {
     "data": {
      "text/plain": [
       "1"
      ]
     },
     "execution_count": 12,
     "metadata": {},
     "output_type": "execute_result"
    }
   ],
   "source": [
    "str.ndim"
   ]
  },
  {
   "cell_type": "code",
   "execution_count": 13,
   "id": "427223db-ba7c-415b-9959-78d50ee3bc3b",
   "metadata": {},
   "outputs": [],
   "source": [
    "# Applying various string manipulation functions from np.char module"
   ]
  },
  {
   "cell_type": "code",
   "execution_count": 14,
   "id": "3c2ef453-a716-4892-92ee-2cfb1da438c0",
   "metadata": {},
   "outputs": [
    {
     "data": {
      "text/plain": [
       "array(['PYTHON', 'NUMPY', 'PANDAS'], dtype='<U6')"
      ]
     },
     "execution_count": 14,
     "metadata": {},
     "output_type": "execute_result"
    }
   ],
   "source": [
    "np.char.upper(str)"
   ]
  },
  {
   "cell_type": "code",
   "execution_count": 15,
   "id": "a64b1ee2-0c37-41ed-a0b4-b2b4caa87e16",
   "metadata": {},
   "outputs": [
    {
     "data": {
      "text/plain": [
       "array(['python', 'numpy', 'pandas'], dtype='<U6')"
      ]
     },
     "execution_count": 15,
     "metadata": {},
     "output_type": "execute_result"
    }
   ],
   "source": [
    "np.char.lower(str)"
   ]
  },
  {
   "cell_type": "code",
   "execution_count": 16,
   "id": "b6451ff2-8ab5-4615-9432-afa5171f035c",
   "metadata": {},
   "outputs": [
    {
     "data": {
      "text/plain": [
       "array(['Python', 'Numpy', 'Pandas'], dtype='<U6')"
      ]
     },
     "execution_count": 16,
     "metadata": {},
     "output_type": "execute_result"
    }
   ],
   "source": [
    "np.char.capitalize(str) "
   ]
  },
  {
   "cell_type": "code",
   "execution_count": 17,
   "id": "9648e769-e5e0-4fee-a493-93ca39868cd8",
   "metadata": {},
   "outputs": [
    {
     "data": {
      "text/plain": [
       "array(['PYTHON', 'NUMPY', 'PANDAS'], dtype='<U6')"
      ]
     },
     "execution_count": 17,
     "metadata": {},
     "output_type": "execute_result"
    }
   ],
   "source": [
    "np.char.swapcase(str) #convert lowercase into uppercase and vice versa"
   ]
  },
  {
   "cell_type": "code",
   "execution_count": 18,
   "id": "93fd1cd1-907d-4b99-b366-db79806d7cc7",
   "metadata": {},
   "outputs": [
    {
     "data": {
      "text/plain": [
       "array(['Python', 'Numpy', 'Pandas'], dtype='<U6')"
      ]
     },
     "execution_count": 18,
     "metadata": {},
     "output_type": "execute_result"
    }
   ],
   "source": [
    "np.char.title(str) # Capitalizing the first character of each word in the string"
   ]
  },
  {
   "cell_type": "code",
   "execution_count": 19,
   "id": "87899a14-ad6b-4375-b69f-3a701dd5a565",
   "metadata": {},
   "outputs": [
    {
     "name": "stdout",
     "output_type": "stream",
     "text": [
      "Original Array:\n",
      " ['hello' 'world']\n",
      "Array with spaces between characters:\n",
      " ['h e l l o' 'w o r l d']\n"
     ]
    }
   ],
   "source": [
    "# Qn6: Generate a NumPy array of words. Insert a space between each character of every word in the array\n",
    "\n",
    "# code->\n",
    "arr = np.array(['hello', 'world'])\n",
    "spaced_arr = np.char.join(' ', arr)\n",
    "print(\"Original Array:\\n\", arr)\n",
    "print(\"Array with spaces between characters:\\n\", spaced_arr)"
   ]
  },
  {
   "cell_type": "code",
   "execution_count": 20,
   "id": "c05c93fb-7d50-42a5-8a61-c2ee2b00d87a",
   "metadata": {},
   "outputs": [
    {
     "data": {
      "text/plain": [
       "array([[9, 5, 4],\n",
       "       [9, 2, 9],\n",
       "       [6, 2, 2]])"
      ]
     },
     "execution_count": 20,
     "metadata": {},
     "output_type": "execute_result"
    }
   ],
   "source": [
    "# Qn7:. Create two 2D NumPy arrays and perform element-wise addition, subtraction, multiplication, and division\n",
    "\n",
    "# code->\n",
    "arr1 = np.random.randint(1,10,(3,3))\n",
    "arr1"
   ]
  },
  {
   "cell_type": "code",
   "execution_count": 21,
   "id": "205693b0-25ca-4ca2-bbd9-92bb3ae614e5",
   "metadata": {},
   "outputs": [
    {
     "data": {
      "text/plain": [
       "array([[2, 5, 7],\n",
       "       [6, 5, 6],\n",
       "       [6, 2, 3]])"
      ]
     },
     "execution_count": 21,
     "metadata": {},
     "output_type": "execute_result"
    }
   ],
   "source": [
    "arr2 = np.random.randint(1,10,(3,3))\n",
    "arr2"
   ]
  },
  {
   "cell_type": "code",
   "execution_count": 22,
   "id": "2d113ea1-8417-4071-ace4-ddecee95c2a0",
   "metadata": {},
   "outputs": [
    {
     "data": {
      "text/plain": [
       "array([[11, 10, 11],\n",
       "       [15,  7, 15],\n",
       "       [12,  4,  5]])"
      ]
     },
     "execution_count": 22,
     "metadata": {},
     "output_type": "execute_result"
    }
   ],
   "source": [
    "# Addition\n",
    "arr1+arr2"
   ]
  },
  {
   "cell_type": "code",
   "execution_count": 23,
   "id": "9b1aa5a2-0052-4487-adfc-be9e750a798f",
   "metadata": {},
   "outputs": [
    {
     "data": {
      "text/plain": [
       "array([[ 7,  0, -3],\n",
       "       [ 3, -3,  3],\n",
       "       [ 0,  0, -1]])"
      ]
     },
     "execution_count": 23,
     "metadata": {},
     "output_type": "execute_result"
    }
   ],
   "source": [
    "arr1-arr2"
   ]
  },
  {
   "cell_type": "code",
   "execution_count": 24,
   "id": "24e0c632-b859-40da-8692-f3512f23fdbb",
   "metadata": {},
   "outputs": [
    {
     "data": {
      "text/plain": [
       "array([[18, 25, 28],\n",
       "       [54, 10, 54],\n",
       "       [36,  4,  6]])"
      ]
     },
     "execution_count": 24,
     "metadata": {},
     "output_type": "execute_result"
    }
   ],
   "source": [
    "arr1*arr2"
   ]
  },
  {
   "cell_type": "code",
   "execution_count": 25,
   "id": "4e1ddbed-2acb-4326-9e5f-b88e5afd37c2",
   "metadata": {},
   "outputs": [
    {
     "data": {
      "text/plain": [
       "array([[4.5       , 1.        , 0.57142857],\n",
       "       [1.5       , 0.4       , 1.5       ],\n",
       "       [1.        , 1.        , 0.66666667]])"
      ]
     },
     "execution_count": 25,
     "metadata": {},
     "output_type": "execute_result"
    }
   ],
   "source": [
    "arr1/arr2"
   ]
  },
  {
   "cell_type": "code",
   "execution_count": 26,
   "id": "b4c08e47-96ce-4488-98e3-d272bf5a559f",
   "metadata": {},
   "outputs": [
    {
     "name": "stdout",
     "output_type": "stream",
     "text": [
      "5x5 Identity Matrix:\n",
      " [[1. 0. 0. 0. 0.]\n",
      " [0. 1. 0. 0. 0.]\n",
      " [0. 0. 1. 0. 0.]\n",
      " [0. 0. 0. 1. 0.]\n",
      " [0. 0. 0. 0. 1.]]\n",
      "\n",
      "Diagonal Elements:\n",
      " [1. 1. 1. 1. 1.]\n"
     ]
    }
   ],
   "source": [
    "# Qn8:Use NumPy to create a 5x5 identity matrix, then extract its diagonal elements.\n",
    "\n",
    "# code->\n",
    "identity_matrix = np.identity(5)\n",
    "diagonal_elements = np.diag(identity_matrix)\n",
    "print(\"5x5 Identity Matrix:\\n\", identity_matrix)\n",
    "print()\n",
    "print(\"Diagonal Elements:\\n\", diagonal_elements)"
   ]
  },
  {
   "cell_type": "code",
   "execution_count": 27,
   "id": "8ee91bb8-0630-4397-9e69-f49f8681d125",
   "metadata": {},
   "outputs": [
    {
     "name": "stdout",
     "output_type": "stream",
     "text": [
      "Random Array:\n",
      " [300 199  92 386 417 703 599 623  22  55 415 309 496 846 736 257 824 837\n",
      " 180 504 610 298  65 802 234 799 544 943 301 108 897 954 475 548 536 280\n",
      " 566  77 916 700 974 919  85  24 923 861 471 543  31  75 827 890 417 901\n",
      " 887  32 831 506 837 855 604 605 872 591 707 772 530  26 868 703  84  46\n",
      " 705 289 279 471 245  38 972 681 143  76 285 432 128 956 635 649  27 509\n",
      " 879 904 687  89 509 487 164 233 957 987]\n",
      "\n",
      "Prime Numbers in Array:\n",
      " [199 599 257 919  31 827 887 509  89 509 487 233]\n"
     ]
    }
   ],
   "source": [
    "# Qn9: Generate a NumPy array of 100 random integers between 0 and 1000. Find and display all prime numbers in this array.\n",
    "\n",
    "# code->\n",
    "def is_prime(n):\n",
    "    if n < 2:\n",
    "        return False\n",
    "    for i in range(2, int(np.sqrt(n)) + 1):\n",
    "        if n % i == 0:\n",
    "            return False\n",
    "    return True\n",
    "\n",
    "arr = np.random.randint(0, 1001, 100)\n",
    "primes = arr[np.vectorize(is_prime)(arr)]\n",
    "print(\"Random Array:\\n\", arr)\n",
    "print()\n",
    "print(\"Prime Numbers in Array:\\n\", primes)"
   ]
  },
  {
   "cell_type": "code",
   "execution_count": 28,
   "id": "d52a7aac-bd53-4094-a58d-7fb27a9811df",
   "metadata": {},
   "outputs": [
    {
     "data": {
      "text/plain": [
       "array([28, 29, 18, 26, 18, 29, 25, 32, 22, 31, 18, 24, 27, 28, 19, 19, 16,\n",
       "       17, 22, 24, 24, 31, 31, 15, 17, 27, 18, 25, 31, 31])"
      ]
     },
     "execution_count": 28,
     "metadata": {},
     "output_type": "execute_result"
    }
   ],
   "source": [
    "# Qn10: Create a NumPy array representing daily temperatures for a month. Calculate and display the weekly averages.\n",
    "\n",
    "# Ans:\n",
    "daily_temperatures = np.random.randint(15, 36, 30)\n",
    "daily_temperatures"
   ]
  },
  {
   "cell_type": "code",
   "execution_count": 29,
   "id": "13cbf50b-1697-457f-b94d-7197eb4f5fbf",
   "metadata": {},
   "outputs": [],
   "source": [
    "week1=daily_temperatures[0:7]\n",
    "week2=daily_temperatures[7:14]\n",
    "week3=daily_temperatures[14:21]\n",
    "week4=daily_temperatures[21:28]"
   ]
  },
  {
   "cell_type": "code",
   "execution_count": 30,
   "id": "d2088fde-a17a-4b93-bc9a-baad483a126c",
   "metadata": {},
   "outputs": [],
   "source": [
    "avg_week1=np.mean(week1)\n",
    "avg_week2=np.mean(week2)\n",
    "avg_week3=np.mean(week3)\n",
    "avg_week4=np.mean(week4)"
   ]
  },
  {
   "cell_type": "code",
   "execution_count": 31,
   "id": "48f049f4-0e2b-4093-9c70-5d6a1f0928b3",
   "metadata": {},
   "outputs": [
    {
     "name": "stdout",
     "output_type": "stream",
     "text": [
      "Average temperature of week1:  24.714285714285715\n",
      "Average temperature of week2:  26.0\n",
      "Average temperature of week3:  20.142857142857142\n",
      "Average temperature of week4:  23.428571428571427\n"
     ]
    }
   ],
   "source": [
    "print(\"Average temperature of week1: \",avg_week1)\n",
    "print(\"Average temperature of week2: \",avg_week2)\n",
    "print(\"Average temperature of week3: \",avg_week3)\n",
    "print(\"Average temperature of week4: \",avg_week4)\n"
   ]
  },
  {
   "cell_type": "code",
   "execution_count": null,
   "id": "799a38d8-59aa-4193-bcf3-3091179af0c6",
   "metadata": {},
   "outputs": [],
   "source": []
  }
 ],
 "metadata": {
  "kernelspec": {
   "display_name": "Python 3 (ipykernel)",
   "language": "python",
   "name": "python3"
  },
  "language_info": {
   "codemirror_mode": {
    "name": "ipython",
    "version": 3
   },
   "file_extension": ".py",
   "mimetype": "text/x-python",
   "name": "python",
   "nbconvert_exporter": "python",
   "pygments_lexer": "ipython3",
   "version": "3.10.8"
  }
 },
 "nbformat": 4,
 "nbformat_minor": 5
}
