{
 "cells": [
  {
   "cell_type": "code",
   "execution_count": 1,
   "id": "d7872849-b9bb-41d9-9584-1f435162e8bc",
   "metadata": {},
   "outputs": [],
   "source": [
    "import numpy as np"
   ]
  },
  {
   "cell_type": "code",
   "execution_count": 2,
   "id": "84e354d4-e6a0-4205-911f-2220431b6288",
   "metadata": {},
   "outputs": [],
   "source": [
    "# Qn1: Explain the purpose and advantages of NumPy in scientific computing and data analysis. How does it\n",
    "# enhance Python's capabilities for numerical operations?\n",
    "\n",
    "# Ans: \n",
    "# Purpose and Advantages:\n",
    "# i.NumPy provides support for large multi-dimensional arrays and matrices, along with a collection of mathematical \n",
    "#   functions to operate on these arrays. It is much faster than traditional Python lists because it uses C and Fortran code internally.\n",
    "# ii.It simplifies the implementation of algorithms and the manipulation of large datasets. \n",
    "#    Operations on arrays are executed with fewer lines of code. \n",
    "#iii. Allows arithmetic operations on arrays of different shapes, simplifying code and improving performance.\n",
    "#iv.It provides efficient storage of data by utilizing contiguous memory blocks, leading to faster access and processing."
   ]
  },
  {
   "cell_type": "code",
   "execution_count": 3,
   "id": "0d5ff4ca-96a6-4840-ba7e-519558ad90bb",
   "metadata": {},
   "outputs": [],
   "source": [
    "# Qn2:Compare and contrast np.mean() and np.average() functions in NumPy. When would you use one over the\n",
    "#     other?\n",
    "\n",
    "# Ans:\n",
    "# np.mean(): Computes the arithmetic mean along the specified axis, ignoring weights.\n",
    "# np.average(): Computes the weighted average along the specified axis, where weights can be provided.\n",
    "    \n",
    "# Use Case:\n",
    "# Use np.mean() when you want a simple average of the data.\n",
    "# Use np.average() when you need to account for weights in your data (e.g., averaging grades with different credit hours).\n"
   ]
  },
  {
   "cell_type": "code",
   "execution_count": 4,
   "id": "352af957-8592-40c8-b4d5-2fab9d555996",
   "metadata": {},
   "outputs": [],
   "source": [
    "# Qn3:Describe the methods for reversing a NumPy array along different axes. Provide examples for 1D and 2D\n",
    "#     arrays."
   ]
  },
  {
   "cell_type": "code",
   "execution_count": 5,
   "id": "af21a1f1-cb59-4564-917a-7f6b0f8470d1",
   "metadata": {},
   "outputs": [
    {
     "name": "stdout",
     "output_type": "stream",
     "text": [
      "[4 3 2 1]\n"
     ]
    }
   ],
   "source": [
    "# Ans: \n",
    "# 1D Array: Use slicing to reverse a 1D array.\n",
    "# code->\n",
    "arr = np.array([1, 2, 3, 4])\n",
    "reversed_arr = arr[::-1]\n",
    "print(reversed_arr)"
   ]
  },
  {
   "cell_type": "code",
   "execution_count": 6,
   "id": "8eefe312-64f4-4e1a-8db0-73f16fdbfefe",
   "metadata": {},
   "outputs": [
    {
     "name": "stdout",
     "output_type": "stream",
     "text": [
      "[[4 5 6]\n",
      " [1 2 3]]\n",
      "[[3 2 1]\n",
      " [6 5 4]]\n"
     ]
    }
   ],
   "source": [
    "# 2D Array: Use np.flip() or slicing to reverse along different axes.\n",
    "# code->\n",
    "arr = np.array([[1, 2, 3], [4, 5, 6]])\n",
    "reversed_arr_0 = np.flip(arr, axis=0)  # Reverse rows\n",
    "reversed_arr_1 = np.flip(arr, axis=1)  # Reverse columns\n",
    "print(reversed_arr_0)\n",
    "print(reversed_arr_1)"
   ]
  },
  {
   "cell_type": "code",
   "execution_count": 7,
   "id": "31a1b758-8e53-4325-98e3-bec739d00bfb",
   "metadata": {},
   "outputs": [
    {
     "name": "stdout",
     "output_type": "stream",
     "text": [
      "int64\n"
     ]
    }
   ],
   "source": [
    "# Qn4:How can you determine the data type of elements in a NumPy array? Discuss the importance of data types in memory management and performance.\n",
    "\n",
    "# Ans:\n",
    "# Determine data type:\n",
    "arr = np.array([1, 2, 3])\n",
    "dtype = arr.dtype\n",
    "print(dtype)\n",
    "\n",
    "# Importance:\n",
    "# Memory Management: NumPy allows for the specification of data types (e.g., int32, float64), which enables fine control over memory usage.\n",
    "# Performance: Operations on arrays with smaller data types (e.g., int8 instead of int64) are faster and consume less memory, improving \n",
    "# performance especially in large datasets."
   ]
  },
  {
   "cell_type": "code",
   "execution_count": 8,
   "id": "0a3597d8-a98c-4ccc-968a-acb1cdbc8c0b",
   "metadata": {},
   "outputs": [],
   "source": [
    "# Qn5:Define ndarrays in NumPy and explain their key features. How do they differ from standard Python lists?\n",
    "\n",
    "# Ans:\n",
    "# Definition: An ndarray is a n-dimensional array in NumPy, representing a grid of values of the same data type.\n",
    "\n",
    "# Key Features:\n",
    "# Homogeneous: All elements are of the same type.\n",
    "# Fixed size: Once created, the size cannot be changed.\n",
    "# Vectorized operations: Supports element-wise operations\n",
    "\n",
    "# Difference from Python Lists:\n",
    "# Python lists can store elements of different types, while ndarrays are homogeneous.\n",
    "# ndarrays are more memory-efficient and support more advanced mathematical operations."
   ]
  },
  {
   "cell_type": "code",
   "execution_count": 9,
   "id": "3bd683fa-7db5-4a4d-8f45-7755306c54db",
   "metadata": {},
   "outputs": [],
   "source": [
    "# Qn6:Analyze the performance benefits of NumPy arrays over Python lists for large-scale numerical operations.\n",
    "\n",
    "# Ans:\n",
    "# Performance Benefits:\n",
    "# Speed: NumPy arrays are faster due to their homogeneous nature and the fact that they are implemented in C.\n",
    "# Memory Efficiency: They are stored in contiguous blocks of memory, leading to reduced overhead.\n",
    "# Vectorization: Operations are applied element-wise, avoiding the need for explicit loops in Python."
   ]
  },
  {
   "cell_type": "code",
   "execution_count": 10,
   "id": "1d309634-00ac-49b7-b572-17dd2c74a9f5",
   "metadata": {},
   "outputs": [],
   "source": [
    "# Qn7: Compare vstack() and hstack() functions in NumPy. Provide examples demonstrating their usage and output.\n",
    "\n",
    "# Ans: Answers are below:"
   ]
  },
  {
   "cell_type": "code",
   "execution_count": 11,
   "id": "eae44ae8-3608-431a-9d2c-baae29907d29",
   "metadata": {},
   "outputs": [
    {
     "name": "stdout",
     "output_type": "stream",
     "text": [
      "[[1 2 3]\n",
      " [4 5 6]]\n"
     ]
    }
   ],
   "source": [
    "# vstack(): Stacks arrays vertically (row-wise).\n",
    "# code->\n",
    "arr1 = np.array([1, 2, 3])\n",
    "arr2 = np.array([4, 5, 6])\n",
    "stacked = np.vstack((arr1, arr2))\n",
    "# Output: [[1, 2, 3], [4, 5, 6]]\n",
    "print(stacked)"
   ]
  },
  {
   "cell_type": "code",
   "execution_count": 12,
   "id": "38955205-249b-4756-9053-42cf4e28e5c9",
   "metadata": {},
   "outputs": [
    {
     "name": "stdout",
     "output_type": "stream",
     "text": [
      "[1 2 3 4 5 6]\n"
     ]
    }
   ],
   "source": [
    "# hstack(): Stacks arrays horizontally (column-wise).\n",
    "# code->\n",
    "arr1 = np.array([1, 2, 3])\n",
    "arr2 = np.array([4, 5, 6])\n",
    "stacked = np.hstack((arr1, arr2))\n",
    "print(stacked)\n",
    "# Output: [1, 2, 3, 4, 5, 6]"
   ]
  },
  {
   "cell_type": "code",
   "execution_count": 13,
   "id": "ef78c247-9e7e-4d3e-8bfd-13467f804c81",
   "metadata": {},
   "outputs": [],
   "source": [
    "# Qn8: Explain the differences between fliplr() and flipud() methods in NumPy, including their effects on various array dimensions.\n",
    "\n",
    "# Ans:Answers are below:"
   ]
  },
  {
   "cell_type": "code",
   "execution_count": 14,
   "id": "007006cd-f347-4735-859c-f9281e235ec8",
   "metadata": {},
   "outputs": [
    {
     "name": "stdout",
     "output_type": "stream",
     "text": [
      "[[2 1]\n",
      " [4 3]]\n"
     ]
    }
   ],
   "source": [
    "# fliplr(): Flips the array in the left-right direction (horizontal flip). Applicable only to 2D arrays.\n",
    "# code->\n",
    "arr = np.array([[1, 2], [3, 4]])\n",
    "flipped = np.fliplr(arr)\n",
    "print(flipped)\n",
    "# Output: [[2, 1], [4, 3]]"
   ]
  },
  {
   "cell_type": "code",
   "execution_count": 15,
   "id": "863d17e6-61d6-422b-bb99-d8f8550cac86",
   "metadata": {},
   "outputs": [
    {
     "name": "stdout",
     "output_type": "stream",
     "text": [
      "[[3 4]\n",
      " [1 2]]\n"
     ]
    }
   ],
   "source": [
    "# flipud(): Flips the array in the up-down direction (vertical flip). Applicable to both 1D and 2D arrays.\n",
    "# code->\n",
    "arr = np.array([[1, 2], [3, 4]])\n",
    "flipped = np.flipud(arr)\n",
    "print(flipped)\n",
    "# Output: [[3, 4], [1, 2]]"
   ]
  },
  {
   "cell_type": "code",
   "execution_count": 16,
   "id": "4a9f1e69-e417-483d-9574-34ed6e7ef657",
   "metadata": {},
   "outputs": [
    {
     "name": "stdout",
     "output_type": "stream",
     "text": [
      "[[3 4]\n",
      " [1 2]]\n"
     ]
    }
   ],
   "source": [
    "# flipud(): Flips the array in the up-down direction (vertical flip). Applicable to both 1D and 2D arrays.\n",
    "# code->\n",
    "arr = np.array([[1, 2], [3, 4]])\n",
    "flipped = np.flipud(arr)\n",
    "print(flipped)\n",
    "# Output: [[3, 4], [1, 2]]"
   ]
  },
  {
   "cell_type": "code",
   "execution_count": 17,
   "id": "fb646586-46ca-44ff-b379-e6e4ca52567f",
   "metadata": {},
   "outputs": [
    {
     "name": "stdout",
     "output_type": "stream",
     "text": [
      "[array([1, 2]), array([3, 4]), array([5])]\n"
     ]
    }
   ],
   "source": [
    "# Qn9:. Discuss the functionality of the array_split() method in NumPy. How does it handle uneven splits?\n",
    "\n",
    "# Ans:\n",
    "# Functionality: Splits an array into multiple sub-arrays. Handles uneven splits by distributing extra elements among the sub-arrays, \n",
    "#                ensuring that the first sub-arrays are larger.\n",
    "# code->\n",
    "arr = np.array([1, 2, 3, 4, 5])\n",
    "split_arr = np.array_split(arr, 3)\n",
    "print(split_arr)\n",
    "# Output: [array([1, 2]), array([3, 4]), array([5])]"
   ]
  },
  {
   "cell_type": "code",
   "execution_count": 18,
   "id": "1bb8fc2b-bd50-4d88-98bf-d492a0471b03",
   "metadata": {},
   "outputs": [],
   "source": [
    "# Qn10: Explain the concepts of vectorization and broadcasting in NumPy. How do they contribute to efficient array operations?\n",
    "\n",
    "# Ans:\n",
    "# Vectorization: Refers to performing operations on entire arrays rather than individual elements, \n",
    "#                enabling faster computations by utilizing optimized C libraries underneath.\n",
    "# Broadcasting: Allows operations on arrays of different shapes by expanding the smaller array along the dimension to match the larger one.\n",
    "# Efficiency: Both concepts eliminate the need for explicit loops, leading to more concise code and significant performance gains"
   ]
  },
  {
   "cell_type": "code",
   "execution_count": null,
   "id": "47b21a7d-94d3-4052-aa0a-b105d3e0639c",
   "metadata": {},
   "outputs": [],
   "source": []
  }
 ],
 "metadata": {
  "kernelspec": {
   "display_name": "Python 3 (ipykernel)",
   "language": "python",
   "name": "python3"
  },
  "language_info": {
   "codemirror_mode": {
    "name": "ipython",
    "version": 3
   },
   "file_extension": ".py",
   "mimetype": "text/x-python",
   "name": "python",
   "nbconvert_exporter": "python",
   "pygments_lexer": "ipython3",
   "version": "3.10.8"
  }
 },
 "nbformat": 4,
 "nbformat_minor": 5
}
